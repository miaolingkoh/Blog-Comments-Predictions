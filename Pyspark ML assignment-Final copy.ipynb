{
 "cells": [
  {
   "cell_type": "markdown",
   "metadata": {},
   "source": [
    "## Load libraries"
   ]
  },
  {
   "cell_type": "code",
   "execution_count": 4,
   "metadata": {},
   "outputs": [],
   "source": [
    "from pyspark.ml import Pipeline\n",
    "from pyspark.ml.classification import DecisionTreeClassifier\n",
    "from pyspark.ml.classification import RandomForestClassifier as RF\n",
    "from pyspark.ml.clustering import KMeans\n",
    "from pyspark.ml.feature import VectorIndexer, VectorAssembler\n",
    "from pyspark.ml.evaluation import MulticlassClassificationEvaluator\n",
    "from pyspark.ml.tuning import CrossValidator, ParamGridBuilder\n",
    "import functools\n",
    "from pyspark.ml.feature import OneHotEncoder"
   ]
  },
  {
   "cell_type": "code",
   "execution_count": 5,
   "metadata": {},
   "outputs": [],
   "source": [
    "# Import SparkSession from pyspark.sql\n",
    "from pyspark.sql import SparkSession"
   ]
  },
  {
   "cell_type": "code",
   "execution_count": 6,
   "metadata": {},
   "outputs": [],
   "source": [
    "# Create my_spark or get it if already created\n",
    "spark = SparkSession.builder.getOrCreate()"
   ]
  },
  {
   "cell_type": "markdown",
   "metadata": {},
   "source": [
    "## Blog Comments Predictions\n",
    "\n",
    "In this assignment, we will try to predict the number of comments that a blog post receives based on features of the post. \n",
    "\n",
    "Dataset is from the UCI Machine Learning Archive here: https://archive.ics.uci.edu/ml/datasets/BlogFeedback. \n",
    "It has 281 columns and we are interested in the last column for prediction, our tartget: number of comments received\n",
    "\n",
    "## Attribute Information:\n",
    "\n",
    "1...50: \n",
    "Average, standard deviation, min, max and median of the \n",
    "Attributes 51...60 for the source of the current blog post \n",
    "With source we mean the blog on which the post appeared. \n",
    "For example, myblog.blog.org would be the source of \n",
    "the post myblog.blog.org/post_2010_09_10 \n",
    "51: Total number of comments before basetime \n",
    "52: Number of comments in the last 24 hours before the \n",
    "basetime \n",
    "53: Let T1 denote the datetime 48 hours before basetime, \n",
    "Let T2 denote the datetime 24 hours before basetime. \n",
    "This attribute is the number of comments in the time period \n",
    "between T1 and T2 \n",
    "54: Number of comments in the first 24 hours after the \n",
    "publication of the blog post, but before basetime \n",
    "55: The difference of Attribute 52 and Attribute 53 \n",
    "56...60: \n",
    "The same features as the attributes 51...55, but \n",
    "features 56...60 refer to the number of links (trackbacks), \n",
    "while features 51...55 refer to the number of comments. \n",
    "61: The length of time between the publication of the blog post \n",
    "and basetime \n",
    "62: The length of the blog post \n",
    "63...262: \n",
    "The 200 bag of words features for 200 frequent words of the \n",
    "text of the blog post \n",
    "263...269: binary indicator features (0 or 1) for the weekday \n",
    "(Monday...Sunday) of the basetime \n",
    "270...276: binary indicator features (0 or 1) for the weekday \n",
    "(Monday...Sunday) of the date of publication of the blog \n",
    "post \n",
    "277: Number of parent pages: we consider a blog post P as a \n",
    "parent of blog post B, if B is a reply (trackback) to \n",
    "blog post P. \n",
    "278...280: \n",
    "Minimum, maximum, average number of comments that the \n",
    "parents received \n",
    "281: The target: the number of comments in the next 24 hours \n",
    "(relative to basetime)"
   ]
  },
  {
   "cell_type": "markdown",
   "metadata": {},
   "source": [
    "## Read in data\n",
    "Pyspark handles only numeric data. We can be sure from the results below they are all numbers."
   ]
  },
  {
   "cell_type": "code",
   "execution_count": 7,
   "metadata": {},
   "outputs": [],
   "source": [
    "#reading multiple csv in a directory\n",
    "df_train = spark.read.csv(['C:/Users/IP 320/Desktop/AUEB Assisgments/BlogFeedback/Train'],\\\n",
    "                   inferSchema= True)\n",
    "\n",
    "df_test = spark.read.csv(['C:/Users/IP 320/Desktop/AUEB Assisgments/BlogFeedback/Test'],\\\n",
    "                   inferSchema= True)"
   ]
  },
  {
   "cell_type": "markdown",
   "metadata": {},
   "source": [
    "## Target columns and features. \n",
    "\n",
    "Here we want to understand the distribution on our target and variables.\n",
    "\n",
    "This target is the number of comments in the next 24 hours (relative to basetime). Our task to predict this number.\n",
    "\n",
    " In the histogram below, we can see that majority of our dataset have received comments in the range of 1 to 50. This means that our data is very skewed and that can means problem when testing our data as we do not have enough information to help us predict other numbers of comments."
   ]
  },
  {
   "cell_type": "code",
   "execution_count": 8,
   "metadata": {},
   "outputs": [
    {
     "name": "stdout",
     "output_type": "stream",
     "text": [
      "Histograms below: \n"
     ]
    },
    {
     "data": {
      "text/plain": [
       "Text(0.5, 1.0, 'Comments Distribution')"
      ]
     },
     "execution_count": 8,
     "metadata": {},
     "output_type": "execute_result"
    },
    {
     "data": {
      "image/png": "[encoded data removed]",
      "text/plain": [
       "<Figure size 432x288 with 1 Axes>"
      ]
     },
     "metadata": {
      "needs_background": "light"
     },
     "output_type": "display_data"
    }
   ],
   "source": [
    "from matplotlib import pyplot as plt\n",
    "import numpy as np\n",
    "\n",
    "%matplotlib inline\n",
    "\n",
    "print(\"Histograms below: \")\n",
    "\n",
    "comments = df_train.groupBy('_c280').count().collect()\n",
    "categories = [i[0] for i in comments]\n",
    "counts = [i[1] for i in comments]\n",
    "\n",
    "ind = np.array(range(len(categories)))\n",
    "width = 50\n",
    "plt.bar(ind, counts, width=width, color='r')\n",
    "\n",
    "plt.ylabel('counts')\n",
    "plt.title('Comments Distribution')"
   ]
  },
  {
   "cell_type": "code",
   "execution_count": 9,
   "metadata": {},
   "outputs": [
    {
     "name": "stdout",
     "output_type": "stream",
     "text": [
      "+------------------+-----------------+\n",
      "|   skewness(_c280)|  kurtosis(_c280)|\n",
      "+------------------+-----------------+\n",
      "|12.691311246278854|232.2954094062568|\n",
      "+------------------+-----------------+\n",
      "\n"
     ]
    }
   ],
   "source": [
    "from pyspark.sql.functions import col, skewness, kurtosis\n",
    "for col in df_train.columns[280:281]:\n",
    "    df_train.select(skewness(col),kurtosis(col)).show()"
   ]
  },
  {
   "cell_type": "markdown",
   "metadata": {},
   "source": [
    "We can see that most post are posted on Wednesday and Tuesday, with least on Sunday. \n",
    "According to our research with the link below, Tuesday and Wednesday are the best days to post on social media.\n",
    "\n",
    "And lowest engagement is Sunday. Now it all makes sense.\n",
    "\n",
    "https://sproutsocial.com/insights/best-times-to-post-on-social-media/"
   ]
  },
  {
   "cell_type": "code",
   "execution_count": 10,
   "metadata": {},
   "outputs": [],
   "source": [
    "import pyspark.sql.functions as F\n",
    "df_traindays = df_train.withColumnRenamed(\"_c269\", \"Mon\").\\\n",
    "        withColumnRenamed(\"_c270\", \"Tue\").\\\n",
    "        withColumnRenamed(\"_c271\", \"Wed\").\\\n",
    "        withColumnRenamed(\"_c272\", \"Thu\").\\\n",
    "        withColumnRenamed(\"_c273\", \"Fri\").\\\n",
    "        withColumnRenamed(\"_c274\", \"Sat\").\\\n",
    "        withColumnRenamed(\"_c275\", \"Sun\")"
   ]
  },
  {
   "cell_type": "code",
   "execution_count": 11,
   "metadata": {},
   "outputs": [
    {
     "name": "stdout",
     "output_type": "stream",
     "text": [
      "Date of publication of the blog post\n",
      "+--------+--------+--------+--------+--------+--------+--------+\n",
      "|sum(Mon)|sum(Tue)|sum(Wed)|sum(Thu)|sum(Fri)|sum(Sat)|sum(Sun)|\n",
      "+--------+--------+--------+--------+--------+--------+--------+\n",
      "|  8343.0|  8786.0|  8977.0|  8501.0|  8093.0|  5038.0|  4659.0|\n",
      "+--------+--------+--------+--------+--------+--------+--------+\n",
      "\n"
     ]
    }
   ],
   "source": [
    "print(\"Date of publication of the blog post\")\n",
    "popular_dayforcomments_agg = df_traindays.agg(F.sum(df_traindays.Mon),\n",
    "                                        F.sum(df_traindays.Tue),\n",
    "                                        F.sum(df_traindays.Wed),\n",
    "                                        F.sum(df_traindays.Thu),\n",
    "                                        F.sum(df_traindays.Fri),\n",
    "                                        F.sum(df_traindays.Sat),\n",
    "                                        F.sum(df_traindays.Sun)).show()\n"
   ]
  },
  {
   "cell_type": "markdown",
   "metadata": {},
   "source": [
    "## Correlation to the days of publication\n",
    "\n",
    "We want to see if there are any really any correlation between the days and number of comments they receive.\n",
    "\n",
    "I create the list of column names under num_cols and select those preselected columns from the dataframe. Using these columns, I pass it through function statistics corr. In this function, it has a parameters for method. It can include many choices and for this I am using pearson correlation. Other method such as spearman can also be used.\n",
    "\n",
    "There are some relationship between the days but not a very strong relationship. They are new friendship found. Weak.\n"
   ]
  },
  {
   "cell_type": "code",
   "execution_count": 12,
   "metadata": {},
   "outputs": [
    {
     "name": "stdout",
     "output_type": "stream",
     "text": [
      "          _c269     _c270     _c271     _c272     _c273     _c274     _c275     _c280\n",
      "_c269  1.000000 -0.195329 -0.197874 -0.191510 -0.185995 -0.141937 -0.135951 -0.000284\n",
      "_c270 -0.195329  1.000000 -0.204088 -0.197524 -0.191836 -0.146395 -0.140221  0.004695\n",
      "_c271 -0.197874 -0.204088  1.000000 -0.200098 -0.194336 -0.148303 -0.142048 -0.003085\n",
      "_c272 -0.191510 -0.197524 -0.200098  1.000000 -0.188086 -0.143533 -0.137479 -0.007672\n",
      "_c273 -0.185995 -0.191836 -0.194336 -0.188086  1.000000 -0.139399 -0.133520  0.008056\n",
      "_c274 -0.141937 -0.146395 -0.148303 -0.143533 -0.139399  1.000000 -0.101892  0.000869\n",
      "_c275 -0.135951 -0.140221 -0.142048 -0.137479 -0.133520 -0.101892  1.000000 -0.002905\n",
      "_c280 -0.000284  0.004695 -0.003085 -0.007672  0.008056  0.000869 -0.002905  1.000000\n"
     ]
    }
   ],
   "source": [
    "#correlations with the days to target variable\n",
    "from pyspark.mllib.stat import Statistics\n",
    "import pandas as pd\n",
    "\n",
    "num_cols = ['_c269', '_c270', '_c271', '_c272', '_c273', '_c274', '_c275', '_c280']\n",
    "corr_data = df_train.select(num_cols)\n",
    "\n",
    "col_names = corr_data.columns\n",
    "features = corr_data.rdd.map(lambda row: row[0:])\n",
    "corr_mat=Statistics.corr(features, method=\"pearson\")\n",
    "corr_df = pd.DataFrame(corr_mat)\n",
    "corr_df.index, corr_df.columns = col_names, col_names\n",
    "\n",
    "print(corr_df.to_string())"
   ]
  },
  {
   "cell_type": "markdown",
   "metadata": {},
   "source": [
    "## Build Linear Regression Model"
   ]
  },
  {
   "cell_type": "markdown",
   "metadata": {},
   "source": [
    "## Prepare labeled set - 'features' and 'labels'\n",
    "\n",
    "I understand that the data may be skewed and we need to log the data.\n",
    "\n",
    "We will can see the r2 value and random forest gave use the better r2 score at 0.37. "
   ]
  },
  {
   "cell_type": "code",
   "execution_count": 13,
   "metadata": {},
   "outputs": [],
   "source": [
    "# Create assembler for train\n",
    "label_col_train = df_train.columns[-1]\n",
    "\n",
    "assembler = VectorAssembler(\n",
    "    inputCols=[ x for x in df_train.columns[:-1] ],\n",
    "    outputCol='features')"
   ]
  },
  {
   "cell_type": "code",
   "execution_count": 14,
   "metadata": {},
   "outputs": [],
   "source": [
    "train_a = assembler.transform(df_train)"
   ]
  },
  {
   "cell_type": "code",
   "execution_count": 15,
   "metadata": {},
   "outputs": [],
   "source": [
    "# Create assembler for test\n",
    "label_col_test = df_test.columns[-1]\n",
    "\n",
    "assembler = VectorAssembler(\n",
    "    inputCols=[ x for x in df_test.columns[:-1] ],\n",
    "    outputCol='features')"
   ]
  },
  {
   "cell_type": "code",
   "execution_count": 16,
   "metadata": {},
   "outputs": [],
   "source": [
    "test_a = assembler.transform(df_test)"
   ]
  },
  {
   "cell_type": "code",
   "execution_count": 17,
   "metadata": {},
   "outputs": [],
   "source": [
    "from pyspark.ml.regression import LinearRegression\n",
    "\n",
    "lr = LinearRegression(maxIter=10, regParam=0.3, labelCol= label_col_train, elasticNetParam=0.8)"
   ]
  },
  {
   "cell_type": "code",
   "execution_count": 18,
   "metadata": {},
   "outputs": [],
   "source": [
    "# Fit the model\n",
    "lrModel = lr.fit(train_a)"
   ]
  },
  {
   "cell_type": "code",
   "execution_count": 19,
   "metadata": {},
   "outputs": [
    {
     "name": "stdout",
     "output_type": "stream",
     "text": [
      "Intercept: 5.934188421829072\n"
     ]
    }
   ],
   "source": [
    "# Print the intercept for linear regression\n",
    "print(\"Intercept: %s\" % str(lrModel.intercept))"
   ]
  },
  {
   "cell_type": "code",
   "execution_count": 20,
   "metadata": {},
   "outputs": [],
   "source": [
    "training_predictions=lrModel.evaluate(train_a)"
   ]
  },
  {
   "cell_type": "code",
   "execution_count": 21,
   "metadata": {},
   "outputs": [
    {
     "data": {
      "text/plain": [
       "918.3465108604942"
      ]
     },
     "execution_count": 21,
     "metadata": {},
     "output_type": "execute_result"
    }
   ],
   "source": [
    "training_predictions.meanSquaredError"
   ]
  },
  {
   "cell_type": "code",
   "execution_count": 22,
   "metadata": {},
   "outputs": [
    {
     "data": {
      "text/plain": [
       "0.35407672011159796"
      ]
     },
     "execution_count": 22,
     "metadata": {},
     "output_type": "execute_result"
    }
   ],
   "source": [
    "training_predictions.r2"
   ]
  },
  {
   "cell_type": "code",
   "execution_count": 23,
   "metadata": {},
   "outputs": [],
   "source": [
    "#make predictions on test data \n",
    "test_results=lrModel.evaluate(test_a)"
   ]
  },
  {
   "cell_type": "code",
   "execution_count": 24,
   "metadata": {},
   "outputs": [
    {
     "name": "stdout",
     "output_type": "stream",
     "text": [
      "+------------------+\n",
      "|         residuals|\n",
      "+------------------+\n",
      "|-0.395124054014091|\n",
      "|-7.671163253091358|\n",
      "| 4.689294185571059|\n",
      "| 1.749078331569856|\n",
      "|-1.793563867274801|\n",
      "| 7.789119527331314|\n",
      "|-4.881671878630961|\n",
      "| 5.348886157627678|\n",
      "|-35.13276479001333|\n",
      "| -8.89745726685041|\n",
      "+------------------+\n",
      "only showing top 10 rows\n",
      "\n"
     ]
    }
   ],
   "source": [
    "#view the residual errors based on predictions \n",
    "test_results.residuals.show(10)"
   ]
  },
  {
   "cell_type": "code",
   "execution_count": 25,
   "metadata": {},
   "outputs": [
    {
     "data": {
      "text/plain": [
       "0.3375313998543865"
      ]
     },
     "execution_count": 25,
     "metadata": {},
     "output_type": "execute_result"
    }
   ],
   "source": [
    "#coefficient of determination value for model\n",
    "test_results.r2"
   ]
  },
  {
   "cell_type": "code",
   "execution_count": 26,
   "metadata": {},
   "outputs": [
    {
     "data": {
      "text/plain": [
       "24.82452330119175"
      ]
     },
     "execution_count": 26,
     "metadata": {},
     "output_type": "execute_result"
    }
   ],
   "source": [
    "test_results.rootMeanSquaredError"
   ]
  },
  {
   "cell_type": "code",
   "execution_count": 27,
   "metadata": {},
   "outputs": [
    {
     "data": {
      "text/plain": [
       "616.2569571314122"
      ]
     },
     "execution_count": 27,
     "metadata": {},
     "output_type": "execute_result"
    }
   ],
   "source": [
    "test_results.meanSquaredError"
   ]
  },
  {
   "cell_type": "markdown",
   "metadata": {},
   "source": [
    "## Build Decision Tree"
   ]
  },
  {
   "cell_type": "code",
   "execution_count": 28,
   "metadata": {},
   "outputs": [],
   "source": [
    "def transData(data): return data.rdd.map(lambda r: [Vectors.dense(r[:-1]),r[-1]]).toDF(['features','label'])"
   ]
  },
  {
   "cell_type": "code",
   "execution_count": 29,
   "metadata": {},
   "outputs": [
    {
     "name": "stdout",
     "output_type": "stream",
     "text": [
      "+--------------------+-----+\n",
      "|            features|label|\n",
      "+--------------------+-----+\n",
      "|[40.30467,53.8456...|  1.0|\n",
      "|[40.30467,53.8456...|  0.0|\n",
      "|[40.30467,53.8456...|  0.0|\n",
      "|[40.30467,53.8456...|  1.0|\n",
      "|[40.30467,53.8456...| 27.0|\n",
      "+--------------------+-----+\n",
      "only showing top 5 rows\n",
      "\n"
     ]
    }
   ],
   "source": [
    "from pyspark.sql import Row\n",
    "from pyspark.ml.linalg import Vectors\n",
    "\n",
    "transformed= transData(df_train)\n",
    "transformed.show(5)"
   ]
  },
  {
   "cell_type": "code",
   "execution_count": 30,
   "metadata": {},
   "outputs": [
    {
     "name": "stdout",
     "output_type": "stream",
     "text": [
      "+-----+--------------------+\n",
      "|label|            features|\n",
      "+-----+--------------------+\n",
      "|  1.0|[40.30467,53.8456...|\n",
      "|  0.0|[40.30467,53.8456...|\n",
      "|  0.0|[40.30467,53.8456...|\n",
      "|  1.0|[40.30467,53.8456...|\n",
      "| 27.0|[40.30467,53.8456...|\n",
      "+-----+--------------------+\n",
      "only showing top 5 rows\n",
      "\n"
     ]
    }
   ],
   "source": [
    "# convert the data to dense vector\n",
    "def transData(data):\n",
    "    return data.rdd.map(lambda r: [r[-1], Vectors.dense(r[:-1])]).\\\n",
    "           toDF(['label','features'])\n",
    "\n",
    "transformed = transData(df_train)\n",
    "transformed.show(5)"
   ]
  },
  {
   "cell_type": "code",
   "execution_count": 31,
   "metadata": {},
   "outputs": [],
   "source": [
    "from pyspark.ml import Pipeline\n",
    "from pyspark.ml.regression import LinearRegression\n",
    "from pyspark.ml.feature import VectorIndexer\n",
    "from pyspark.ml.evaluation import RegressionEvaluator\n",
    "\n",
    "# Automatically identify categorical features, and index them.\n",
    "# We specify maxCategories so features with > 4\n",
    "# distinct values are treated as continuous.\n",
    "\n",
    "featureIndexer = VectorIndexer(inputCol=\"features\", \\\n",
    "                               outputCol=\"indexedFeatures\",\\\n",
    "                               maxCategories=4).fit(transformed)\n",
    "\n",
    "data = featureIndexer.transform(transformed)"
   ]
  },
  {
   "cell_type": "code",
   "execution_count": 32,
   "metadata": {},
   "outputs": [
    {
     "name": "stdout",
     "output_type": "stream",
     "text": [
      "+-----+--------------------+--------------------+\n",
      "|label|            features|     indexedFeatures|\n",
      "+-----+--------------------+--------------------+\n",
      "|  1.0|[40.30467,53.8456...|[40.30467,53.8456...|\n",
      "|  0.0|[40.30467,53.8456...|[40.30467,53.8456...|\n",
      "+-----+--------------------+--------------------+\n",
      "only showing top 2 rows\n",
      "\n"
     ]
    }
   ],
   "source": [
    "data.show(2)"
   ]
  },
  {
   "cell_type": "code",
   "execution_count": 33,
   "metadata": {},
   "outputs": [
    {
     "name": "stdout",
     "output_type": "stream",
     "text": [
      "+-----+--------------------+\n",
      "|label|            features|\n",
      "+-----+--------------------+\n",
      "|  0.0|[6.004717,37.5324...|\n",
      "|  2.0|[7.7777777,6.1604...|\n",
      "|  0.0|[0.0,0.0,0.0,0.0,...|\n",
      "|  0.0|[34.589355,98.559...|\n",
      "|  0.0|[0.0,0.0,0.0,0.0,...|\n",
      "+-----+--------------------+\n",
      "only showing top 5 rows\n",
      "\n"
     ]
    }
   ],
   "source": [
    "testtransformed= transData(df_test)\n",
    "testtransformed.show(5)"
   ]
  },
  {
   "cell_type": "code",
   "execution_count": 34,
   "metadata": {},
   "outputs": [],
   "source": [
    "featureIndexertest = VectorIndexer(inputCol=\"features\", \\\n",
    "                               outputCol=\"indexedFeatures\",\\\n",
    "                               maxCategories=4).fit(testtransformed)\n",
    "\n",
    "test_data = featureIndexertest.transform(testtransformed)"
   ]
  },
  {
   "cell_type": "code",
   "execution_count": 35,
   "metadata": {},
   "outputs": [
    {
     "name": "stdout",
     "output_type": "stream",
     "text": [
      "+-----+--------------------+--------------------+\n",
      "|label|            features|     indexedFeatures|\n",
      "+-----+--------------------+--------------------+\n",
      "|  0.0|[6.004717,37.5324...|[6.004717,37.5324...|\n",
      "|  2.0|[7.7777777,6.1604...|[7.7777777,6.1604...|\n",
      "+-----+--------------------+--------------------+\n",
      "only showing top 2 rows\n",
      "\n"
     ]
    }
   ],
   "source": [
    "test_data.show(2)"
   ]
  },
  {
   "cell_type": "code",
   "execution_count": 36,
   "metadata": {},
   "outputs": [],
   "source": [
    "from pyspark.ml.regression import DecisionTreeRegressor\n",
    "\n",
    "# Train a DecisionTree model.\n",
    "dt = DecisionTreeRegressor(featuresCol=\"indexedFeatures\")"
   ]
  },
  {
   "cell_type": "code",
   "execution_count": 37,
   "metadata": {},
   "outputs": [],
   "source": [
    "# Chain indexer and tree in a Pipeline\n",
    "pipeline = Pipeline(stages=[featureIndexer, dt])\n",
    "\n",
    "model = pipeline.fit(data)"
   ]
  },
  {
   "cell_type": "code",
   "execution_count": 38,
   "metadata": {},
   "outputs": [],
   "source": [
    "# Make predictions.\n",
    "predictions = model.transform(test_data)"
   ]
  },
  {
   "cell_type": "code",
   "execution_count": 39,
   "metadata": {},
   "outputs": [
    {
     "name": "stdout",
     "output_type": "stream",
     "text": [
      "+--------------------+-----+------------------+\n",
      "|            features|label|        prediction|\n",
      "+--------------------+-----+------------------+\n",
      "|[6.004717,37.5324...|  0.0|0.5627904291857881|\n",
      "|[7.7777777,6.1604...|  2.0|0.5627904291857881|\n",
      "|[0.0,0.0,0.0,0.0,...|  0.0|0.5627904291857881|\n",
      "|[34.589355,98.559...|  0.0|0.5627904291857881|\n",
      "|[0.0,0.0,0.0,0.0,...|  0.0|0.5627904291857881|\n",
      "+--------------------+-----+------------------+\n",
      "only showing top 5 rows\n",
      "\n"
     ]
    }
   ],
   "source": [
    "# Select example rows to display.\n",
    "predictions.select(\"features\",\"label\",\"prediction\").show(5)"
   ]
  },
  {
   "cell_type": "code",
   "execution_count": 40,
   "metadata": {},
   "outputs": [
    {
     "name": "stdout",
     "output_type": "stream",
     "text": [
      "Root Mean Squared Error (RMSE) on test data = 24.1084\n"
     ]
    }
   ],
   "source": [
    "from pyspark.ml.evaluation import RegressionEvaluator\n",
    "from pyspark.ml.evaluation import RegressionEvaluator\n",
    "# Select (prediction, true label) and compute test error\n",
    "evaluator = RegressionEvaluator(labelCol=\"label\",\n",
    "                                predictionCol=\"prediction\",\n",
    "                                metricName=\"rmse\")\n",
    "\n",
    "rmse = evaluator.evaluate(predictions)\n",
    "print(\"Root Mean Squared Error (RMSE) on test data = %g\" % rmse)"
   ]
  },
  {
   "cell_type": "code",
   "execution_count": 41,
   "metadata": {},
   "outputs": [
    {
     "name": "stdout",
     "output_type": "stream",
     "text": [
      "r2_score: 0.37520240923381665\n"
     ]
    }
   ],
   "source": [
    "y_true = predictions.select(\"label\").toPandas()\n",
    "y_pred = predictions.select(\"prediction\").toPandas()\n",
    "\n",
    "import sklearn.metrics\n",
    "r2_score = sklearn.metrics.r2_score(y_true, y_pred)\n",
    "print('r2_score: {0}'.format(r2_score))"
   ]
  },
  {
   "cell_type": "markdown",
   "metadata": {},
   "source": [
    "## Random Forest"
   ]
  },
  {
   "cell_type": "code",
   "execution_count": 43,
   "metadata": {},
   "outputs": [],
   "source": [
    "# Import LinearRegression class\n",
    "from pyspark.ml.regression import RandomForestRegressor\n",
    "\n",
    "# Define LinearRegression algorithm\n",
    "rf = RandomForestRegressor(featuresCol=\"indexedFeatures\",numTrees=2, maxDepth=2, seed=42)"
   ]
  },
  {
   "cell_type": "code",
   "execution_count": 44,
   "metadata": {},
   "outputs": [],
   "source": [
    "# Chain indexer and tree in a Pipeline\n",
    "pipeline = Pipeline(stages=[featureIndexer, rf])\n",
    "model = pipeline.fit(data)"
   ]
  },
  {
   "cell_type": "code",
   "execution_count": 45,
   "metadata": {},
   "outputs": [
    {
     "name": "stdout",
     "output_type": "stream",
     "text": [
      "+--------------------+-----+----------------+\n",
      "|            features|label|      prediction|\n",
      "+--------------------+-----+----------------+\n",
      "|[6.004717,37.5324...|  0.0|2.63584185079476|\n",
      "|[7.7777777,6.1604...|  2.0|2.63584185079476|\n",
      "|[0.0,0.0,0.0,0.0,...|  0.0|2.63584185079476|\n",
      "|[34.589355,98.559...|  0.0|2.63584185079476|\n",
      "|[0.0,0.0,0.0,0.0,...|  0.0|2.63584185079476|\n",
      "+--------------------+-----+----------------+\n",
      "only showing top 5 rows\n",
      "\n"
     ]
    }
   ],
   "source": [
    "predictions = model.transform(test_data)\n",
    "\n",
    "# Select example rows to display.\n",
    "predictions.select(\"features\",\"label\", \"prediction\").show(5)"
   ]
  },
  {
   "cell_type": "code",
   "execution_count": 46,
   "metadata": {},
   "outputs": [
    {
     "name": "stdout",
     "output_type": "stream",
     "text": [
      "Root Mean Squared Error (RMSE) on test data = 25.2131\n"
     ]
    }
   ],
   "source": [
    "# Select (prediction, true label) and compute test error\n",
    "evaluator = RegressionEvaluator(\n",
    "    labelCol=\"label\", predictionCol=\"prediction\", metricName=\"rmse\")\n",
    "rmse = evaluator.evaluate(predictions)\n",
    "print(\"Root Mean Squared Error (RMSE) on test data = %g\" % rmse)"
   ]
  },
  {
   "cell_type": "code",
   "execution_count": 47,
   "metadata": {},
   "outputs": [
    {
     "name": "stdout",
     "output_type": "stream",
     "text": [
      "r2_score: 0.375\n"
     ]
    }
   ],
   "source": [
    "import sklearn.metrics\n",
    "r2_score = sklearn.metrics.r2_score(y_true, y_pred)\n",
    "print('r2_score: {:4.3f}'.format(r2_score))"
   ]
  },
  {
   "cell_type": "code",
   "execution_count": 48,
   "metadata": {},
   "outputs": [
    {
     "data": {
      "text/plain": [
       "SparseVector(280, {20: 0.0206, 28: 0.5967, 52: 0.1752, 54: 0.2075})"
      ]
     },
     "execution_count": 48,
     "metadata": {},
     "output_type": "execute_result"
    }
   ],
   "source": [
    "model.stages[-1].featureImportances"
   ]
  },
  {
   "cell_type": "code",
   "execution_count": 52,
   "metadata": {},
   "outputs": [
    {
     "data": {
      "text/plain": [
       "[DecisionTreeRegressionModel (uid=dtr_e39fe222df34) of depth 2 with 7 nodes,\n",
       " DecisionTreeRegressionModel (uid=dtr_6d8ca6d249cd) of depth 2 with 7 nodes]"
      ]
     },
     "execution_count": 52,
     "metadata": {},
     "output_type": "execute_result"
    }
   ],
   "source": [
    "model.stages[-1].trees"
   ]
  }
 ],
 "metadata": {
  "kernelspec": {
   "display_name": "Python 3",
   "language": "python",
   "name": "python3"
  },
  "language_info": {
   "codemirror_mode": {
    "name": "ipython",
    "version": 3
   },
   "file_extension": ".py",
   "mimetype": "text/x-python",
   "name": "python",
   "nbconvert_exporter": "python",
   "pygments_lexer": "ipython3",
   "version": "3.7.1"
  }
 },
 "nbformat": 4,
 "nbformat_minor": 2
}
